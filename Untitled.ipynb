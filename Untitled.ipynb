{
 "cells": [
  {
   "cell_type": "code",
   "execution_count": 4,
   "id": "067bd17e",
   "metadata": {},
   "outputs": [],
   "source": [
    "#importações necessárias\n",
    "#pip install pandas\n",
    "import pandas as pd\n",
    "#pip install pywin32\n",
    "import win32com.client\n",
    "#importar planilha do Excel\n",
    "clientes = pd.read_excel(r'D:\\Python Geral Youtube\\Clientes.xlsx')\n"
   ]
  },
  {
   "cell_type": "code",
   "execution_count": 5,
   "id": "288ee093",
   "metadata": {},
   "outputs": [],
   "source": [
    "#Enviar e-mails\n",
    "\n",
    "#criar conexão com o outlook\n",
    "outlook = win32com.client.Dispatch('outlook.application')\n",
    "\n",
    "\n",
    "#📤: Enviar e-mails\n",
    "for i, cliente in enumerate(clientes['Cliente']):\n",
    "    nome_cliente = cliente\n",
    "    valor = clientes['Valor'][i]\n",
    "    email = str(clientes['E-mail'][i])\n",
    "    mail = outlook.CreateItem(0)\n",
    "    mail.To = email\n",
    "    mail.Subject = 'Cobrança de debitos para:{} '.format(nome_cliente)\n",
    "    mail.Body = '''\n",
    "    Prezado(a) {},\n",
    "        Venho por meio desse informar que sua conta no valor de {} está vencida.\n",
    "        Entre em contato conosco e negocie.\n",
    "    Att.,'''.format(nome_cliente,valor)\n",
    "    mail.Send()\n",
    "      "
   ]
  }
 ],
 "metadata": {
  "kernelspec": {
   "display_name": "Python 3 (ipykernel)",
   "language": "python",
   "name": "python3"
  },
  "language_info": {
   "codemirror_mode": {
    "name": "ipython",
    "version": 3
   },
   "file_extension": ".py",
   "mimetype": "text/x-python",
   "name": "python",
   "nbconvert_exporter": "python",
   "pygments_lexer": "ipython3",
   "version": "3.11.4"
  }
 },
 "nbformat": 4,
 "nbformat_minor": 5
}
